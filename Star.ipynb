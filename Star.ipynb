{
 "cells": [
  {
   "cell_type": "markdown",
   "metadata": {},
   "source": [
    "# Hi :)"
   ]
  },
  {
   "cell_type": "markdown",
   "metadata": {},
   "source": [
    "----"
   ]
  },
  {
   "cell_type": "code",
   "execution_count": 1,
   "metadata": {},
   "outputs": [],
   "source": [
    "import cv2\n",
    "import numpy as np\n",
    "from moviepy.video.VideoClip import VideoClip\n",
    "from PIL import Image, ImageDraw\n",
    "\n",
    "def image_to_video(image_path, output_video_path, scale_factor, duration):\n",
    "    def detect_and_scale(image_path, scale_factor):\n",
    "        # Load the image\n",
    "        image= cv2.imread(image_path)\n",
    "        gray= cv2.cvtColor(image, cv2.COLOR_BGR2GRAY)\n",
    "        # Detect the black dot\n",
    "        _, binary_dot= cv2.threshold(gray, 30, 255, cv2.THRESH_BINARY_INV)\n",
    "        contours_dot, _= cv2.findContours(binary_dot, cv2.RETR_TREE, cv2.CHAIN_APPROX_SIMPLE)\n",
    "        detected_dot= None\n",
    "        for contour in contours_dot:\n",
    "            area= cv2.contourArea(contour)\n",
    "            if 10 < area < 500:  # Filter small regions\n",
    "                M= cv2.moments(contour)\n",
    "                if M[\"m00\"] != 0:\n",
    "                    cx= int(M[\"m10\"] / M[\"m00\"])\n",
    "                    cy= int(M[\"m01\"] / M[\"m00\"])\n",
    "                    detected_dot= (cx, cy)\n",
    "                    break\n",
    "        # Detect the outer edge\n",
    "        _, binary_edge= cv2.threshold(gray, 200, 255, cv2.THRESH_BINARY_INV)\n",
    "        contours_edge, hierarchy= cv2.findContours(binary_edge, cv2.RETR_TREE, cv2.CHAIN_APPROX_SIMPLE)\n",
    "        outer_edge= None\n",
    "        for i, contour in enumerate(contours_edge):\n",
    "            if hierarchy[0][i][3] == -1:  # Outer edge has no parent\n",
    "                outer_edge= contour\n",
    "                break\n",
    "        # Scale the outer edge\n",
    "        scaled_outer_edge= []\n",
    "        if outer_edge is not None:\n",
    "            M= cv2.moments(outer_edge)\n",
    "            cx= int(M[\"m10\"] / M[\"m00\"]) if M[\"m00\"] != 0 else 0\n",
    "            cy= int(M[\"m01\"] / M[\"m00\"]) if M[\"m00\"] != 0 else 0\n",
    "            center= np.array([cx, cy])\n",
    "            for point in outer_edge:\n",
    "                vector_to_center= point[0] - center\n",
    "                scaled_point= center + vector_to_center * scale_factor\n",
    "                scaled_outer_edge.append(scaled_point.astype(np.int32))\n",
    "            scaled_outer_edge= np.array(scaled_outer_edge, dtype= np.int32)\n",
    "        return scaled_outer_edge, detected_dot\n",
    "    def animate_sequential_lines(image_path, output_path, scaled_path, duration):\n",
    "        image= Image.open(image_path).convert(\"RGB\")\n",
    "        base_frame= np.array(image)\n",
    "        def make_frame(t):\n",
    "            frame= base_frame.copy()\n",
    "            img= Image.fromarray(frame)\n",
    "            draw= ImageDraw.Draw(img)\n",
    "            time_per_line= duration / len(scaled_path)\n",
    "            for i, point in enumerate(scaled_path[ : -1]):\n",
    "                start_point= point\n",
    "                end_point= scaled_path[i + 1]\n",
    "                line_start_time= i * time_per_line\n",
    "                line_end_time= (i + 1) * time_per_line\n",
    "                if line_start_time <= t < line_end_time:\n",
    "                    progress= (t - line_start_time) / time_per_line\n",
    "                    x1, y1= start_point\n",
    "                    x2, y2= end_point\n",
    "                    current_x= int(x1 + (x2 - x1) * progress)\n",
    "                    current_y= int(y1 + (y2 - y1) * progress)\n",
    "                    draw.line((x1, y1, current_x, current_y), fill= \"red\", width= 4)\n",
    "                elif t >= line_end_time:\n",
    "                    x1, y1= start_point\n",
    "                    x2, y2= end_point\n",
    "                    draw.line((x1, y1, x2, y2), fill= \"red\", width= 5)\n",
    "            return np.array(img)\n",
    "        animation= VideoClip(make_frame, duration= duration)\n",
    "        animation.write_videofile(output_path, fps= 24)\n",
    "    # Detect and scale\n",
    "    scaled_path, detected_dot= detect_and_scale(image_path, scale_factor)\n",
    "    if detected_dot is None or len(scaled_path) == 0:\n",
    "        raise ValueError(\"Failed to detect required features in the image.\")\n",
    "    # Transform the scaled path\n",
    "    target= np.array([detected_dot[0], detected_dot[1]])\n",
    "    distances= np.linalg.norm(scaled_path - target, axis= 1)\n",
    "    closest_idx= np.argmin(distances)\n",
    "    before_closest= scaled_path[:closest_idx]\n",
    "    after_closest= scaled_path[closest_idx + 1:]\n",
    "    result= np.vstack((scaled_path[closest_idx : closest_idx + 1], np.flip(before_closest, axis= 0), np.flip(after_closest, axis= 0)))    \n",
    "    # Cut and append elements\n",
    "    n= 4\n",
    "    if len(result) > n:\n",
    "        first_n= result[:n]\n",
    "        remaining= result[n:]\n",
    "        result= np.vstack((remaining, first_n))\n",
    "    # Animate the lines\n",
    "    animate_sequential_lines(image_path, output_video_path, result, duration)\n",
    "\n",
    "# # Example usage\n",
    "# input_image= \"Circle.jpg\"  # Replace with the path to your image\n",
    "# output_video= \"output_animation.mp4\"\n",
    "# image_to_video(input_image, output_video, scale_factor= 0.87, duration= 4)"
   ]
  },
  {
   "cell_type": "code",
   "execution_count": 7,
   "metadata": {},
   "outputs": [
    {
     "name": "stdout",
     "output_type": "stream",
     "text": [
      "MoviePy - Building video Star.mp4.\n",
      "MoviePy - Writing video Star.mp4\n",
      "\n"
     ]
    },
    {
     "name": "stderr",
     "output_type": "stream",
     "text": [
      "                                                                      \r"
     ]
    },
    {
     "name": "stdout",
     "output_type": "stream",
     "text": [
      "MoviePy - Done !\n",
      "MoviePy - video ready Star.mp4\n"
     ]
    }
   ],
   "source": [
    "input_image= \"Star.jpg\"  # Replace with the path to your image\n",
    "output_video= \"Star.mp4\"\n",
    "image_to_video(input_image, output_video, scale_factor= 0.9, duration= 4)"
   ]
  }
 ],
 "metadata": {
  "kernelspec": {
   "display_name": "Qvenv",
   "language": "python",
   "name": "qvenv"
  },
  "language_info": {
   "codemirror_mode": {
    "name": "ipython",
    "version": 3
   },
   "file_extension": ".py",
   "mimetype": "text/x-python",
   "name": "python",
   "nbconvert_exporter": "python",
   "pygments_lexer": "ipython3",
   "version": "3.10.0"
  }
 },
 "nbformat": 4,
 "nbformat_minor": 2
}
